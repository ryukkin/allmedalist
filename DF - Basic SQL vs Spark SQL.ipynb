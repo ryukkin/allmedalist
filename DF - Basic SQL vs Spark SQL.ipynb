{
 "cells": [
  {
   "cell_type": "code",
   "execution_count": 1,
   "metadata": {},
   "outputs": [],
   "source": [
    "from pyspark.sql import SparkSession\n",
    "from pyspark.sql.functions import *\n",
    "from pyspark.sql.types import *\n",
    "from pyspark.sql.window import Window"
   ]
  },
  {
   "cell_type": "code",
   "execution_count": 2,
   "metadata": {},
   "outputs": [],
   "source": [
    "spark = SparkSession.builder \\\n",
    ".master(\"local[4]\") \\\n",
    ".appName(\"Csv-Üzeri-SQL\") \\\n",
    ".config(\"spark.executor.memory\",\"4g\") \\\n",
    ".config(\"spark.driver.memory\",\"2g\") \\\n",
    ".getOrCreate()"
   ]
  },
  {
   "cell_type": "code",
   "execution_count": 3,
   "metadata": {},
   "outputs": [],
   "source": [
    "olympic = spark.read \\\n",
    ".option(\"sep\", \",\") \\\n",
    ".option(\"header\", \"True\") \\\n",
    ".option(\"inferSchema\", \"True\") \\\n",
    ".csv(\"/home/jovyan/data/all_medalists.csv\")"
   ]
  },
  {
   "cell_type": "code",
   "execution_count": 4,
   "metadata": {},
   "outputs": [],
   "source": [
    "google = spark.read \\\n",
    ".option(\"sep\", \",\") \\\n",
    ".option(\"header\", \"True\") \\\n",
    ".option(\"inferSchema\", \"True\") \\\n",
    ".csv(\"/home/jovyan/data/googleplaystore.csv\")"
   ]
  },
  {
   "cell_type": "markdown",
   "metadata": {},
   "source": [
    "##### !!"
   ]
  },
  {
   "cell_type": "code",
   "execution_count": 5,
   "metadata": {},
   "outputs": [],
   "source": [
    "retail = spark.read \\\n",
    ".option(\"sep\", \";\") \\\n",
    ".option(\"header\", \"True\") \\\n",
    ".option(\"inferSchema\", \"True\") \\\n",
    ".csv(\"/home/jovyan/data/OnlineRetail.csv\") \\\n",
    ".withColumn(\"Date\", to_timestamp(\"InvoiceDate\", \"dd.MM.yyyy HH:mm\"))"
   ]
  },
  {
   "cell_type": "code",
   "execution_count": 6,
   "metadata": {},
   "outputs": [
    {
     "name": "stdout",
     "output_type": "stream",
     "text": [
      "+---------+---------+--------------------+--------+---------------+---------+----------+--------------+-------------------+\n",
      "|InvoiceNo|StockCode|         Description|Quantity|    InvoiceDate|UnitPrice|CustomerID|       Country|               Date|\n",
      "+---------+---------+--------------------+--------+---------------+---------+----------+--------------+-------------------+\n",
      "|   536365|   85123A|WHITE HANGING HEA...|       6|1.12.2010 08:26|     2,55|     17850|United Kingdom|2010-12-01 08:26:00|\n",
      "|   536365|    71053| WHITE METAL LANTERN|       6|1.12.2010 08:26|     3,39|     17850|United Kingdom|2010-12-01 08:26:00|\n",
      "|   536365|   84406B|CREAM CUPID HEART...|       8|1.12.2010 08:26|     2,75|     17850|United Kingdom|2010-12-01 08:26:00|\n",
      "|   536365|   84029G|KNITTED UNION FLA...|       6|1.12.2010 08:26|     3,39|     17850|United Kingdom|2010-12-01 08:26:00|\n",
      "|   536365|   84029E|RED WOOLLY HOTTIE...|       6|1.12.2010 08:26|     3,39|     17850|United Kingdom|2010-12-01 08:26:00|\n",
      "+---------+---------+--------------------+--------+---------------+---------+----------+--------------+-------------------+\n",
      "only showing top 5 rows\n",
      "\n"
     ]
    }
   ],
   "source": [
    "retail.show(5)"
   ]
  },
  {
   "cell_type": "code",
   "execution_count": 7,
   "metadata": {
    "scrolled": true
   },
   "outputs": [],
   "source": [
    "olympic.createOrReplaceTempView(\"Olympic\")"
   ]
  },
  {
   "cell_type": "code",
   "execution_count": 8,
   "metadata": {},
   "outputs": [],
   "source": [
    "google.createOrReplaceTempView(\"Google\")"
   ]
  },
  {
   "cell_type": "code",
   "execution_count": 9,
   "metadata": {},
   "outputs": [],
   "source": [
    "retail.createOrReplaceTempView(\"Retail\")"
   ]
  },
  {
   "cell_type": "markdown",
   "metadata": {},
   "source": [
    "# Basic SQL - 1"
   ]
  },
  {
   "cell_type": "code",
   "execution_count": 10,
   "metadata": {},
   "outputs": [
    {
     "name": "stdout",
     "output_type": "stream",
     "text": [
      "+---+----+------+------+-----+\n",
      "|NOC|Gold|Silver|Bronze|TOTAL|\n",
      "+---+----+------+------+-----+\n",
      "|USA|2088|  1195|  1052| 4335|\n",
      "|URS| 838|   627|   584| 2049|\n",
      "|GBR| 498|   591|   505| 1594|\n",
      "|FRA| 378|   461|   475| 1314|\n",
      "|ITA| 460|   394|   374| 1228|\n",
      "|GER| 407|   350|   454| 1211|\n",
      "|AUS| 293|   369|   413| 1075|\n",
      "|HUN| 400|   308|   345| 1053|\n",
      "|SWE| 347|   349|   325| 1021|\n",
      "|GDR| 329|   271|   225|  825|\n",
      "+---+----+------+------+-----+\n",
      "only showing top 10 rows\n",
      "\n"
     ]
    }
   ],
   "source": [
    "spark.sql(\"\"\"\n",
    "\n",
    "with cte as\n",
    "(\n",
    "SELECT NOC, \n",
    "CASE WHEN Medal = \"Gold\" THEN 1 ELSE 0 END AS Gold,\n",
    "CASE WHEN Medal = \"Silver\" THEN 1 ELSE 0 END AS Silver,\n",
    "CASE WHEN Medal = \"Bronze\" THEN 1 ELSE 0 END AS Bronze,\n",
    "1 AS Piece\n",
    "FROM Olympic\n",
    "WHERE Medal in (\"Gold\", \"Silver\", \"Bronze\")\n",
    ")\n",
    "select NOC, SUM(Gold) AS Gold, SUM(Silver) AS Silver,\n",
    "SUM(Bronze) AS Bronze, SUM(Piece) AS TOTAL\n",
    "FROM cte\n",
    "GROUP BY NOC\n",
    "ORDER BY TOTAL DESC\n",
    "\"\"\").show(10)"
   ]
  },
  {
   "cell_type": "markdown",
   "metadata": {},
   "source": [
    "# Spark SQL - 1 "
   ]
  },
  {
   "cell_type": "code",
   "execution_count": 12,
   "metadata": {
    "scrolled": true
   },
   "outputs": [
    {
     "name": "stdout",
     "output_type": "stream",
     "text": [
      "+------+-------+--------+----------+--------------------+---+------+--------------------+------------+------+\n",
      "|  City|Edition|   Sport|Discipline|             Athlete|NOC|Gender|               Event|Event_gender| Medal|\n",
      "+------+-------+--------+----------+--------------------+---+------+--------------------+------------+------+\n",
      "|Athens|   1896|Aquatics|  Swimming|       HAJOS, Alfred|HUN|   Men|      100m freestyle|           M|  Gold|\n",
      "|Athens|   1896|Aquatics|  Swimming|    HERSCHMANN, Otto|AUT|   Men|      100m freestyle|           M|Silver|\n",
      "|Athens|   1896|Aquatics|  Swimming|   DRIVAS, Dimitrios|GRE|   Men|100m freestyle fo...|           M|Bronze|\n",
      "|Athens|   1896|Aquatics|  Swimming|  MALOKINIS, Ioannis|GRE|   Men|100m freestyle fo...|           M|  Gold|\n",
      "|Athens|   1896|Aquatics|  Swimming|  CHASAPIS, Spiridon|GRE|   Men|100m freestyle fo...|           M|Silver|\n",
      "|Athens|   1896|Aquatics|  Swimming|CHOROPHAS, Efstat...|GRE|   Men|     1200m freestyle|           M|Bronze|\n",
      "|Athens|   1896|Aquatics|  Swimming|       HAJOS, Alfred|HUN|   Men|     1200m freestyle|           M|  Gold|\n",
      "|Athens|   1896|Aquatics|  Swimming|    ANDREOU, Joannis|GRE|   Men|     1200m freestyle|           M|Silver|\n",
      "|Athens|   1896|Aquatics|  Swimming|CHOROPHAS, Efstat...|GRE|   Men|      400m freestyle|           M|Bronze|\n",
      "|Athens|   1896|Aquatics|  Swimming|       NEUMANN, Paul|AUT|   Men|      400m freestyle|           M|  Gold|\n",
      "+------+-------+--------+----------+--------------------+---+------+--------------------+------------+------+\n",
      "only showing top 10 rows\n",
      "\n"
     ]
    }
   ],
   "source": [
    "olympic \\\n",
    ".withColumn(\"Gold\", when(olympic.Medal==\"Gold\", 1).otherwise(0)) \\\n",
    ".withColumn(\"Silver\", when(col(\"Medal\")==\"Silver\", 1).otherwise(0)) \\\n",
    ".withColumn(\"Bronze\", when(olympic.Medal == \"Bronze\", 1).otherwise(0)) \\\n",
    ".groupBy(\"NOC\") \\\n",
    ".agg(sum(\"Gold\").alias('Gold'), \n",
    "     sum(\"Silver\").alias('Silver'), \n",
    "     sum(\"Bronze\").alias('Bronze'),\n",
    "     (sum(\"Gold\")+sum(\"Silver\")+sum(\"Bronze\")).alias('TOTAL'))  \\\n",
    ".orderBy(desc(\"TOTAL\")) \\\n",
    ".show(10)"
   ]
  },
  {
   "cell_type": "markdown",
   "metadata": {},
   "source": [
    "# Basic SQL - 2 "
   ]
  },
  {
   "cell_type": "code",
   "execution_count": 11,
   "metadata": {},
   "outputs": [
    {
     "name": "stdout",
     "output_type": "stream",
     "text": [
      "+--------+--------+-----+\n",
      "|Category| SizeCat|Total|\n",
      "+--------+--------+-----+\n",
      "|  FAMILY|  0-50 M| 1427|\n",
      "|  FAMILY|50-100 M|  373|\n",
      "|    GAME|  0-50 M|  615|\n",
      "|    GAME|50-100 M|  397|\n",
      "|   TOOLS|  0-50 M|  649|\n",
      "|   TOOLS|50-100 M|   10|\n",
      "+--------+--------+-----+\n",
      "\n"
     ]
    }
   ],
   "source": [
    "spark.sql(\"\"\"\n",
    "\n",
    "\n",
    "with cte as\n",
    "(\n",
    "SELECT Distinct Category, Size,\n",
    "SUBSTRING(Size, 1, LENGTH(Size) - 1) as SonKaraktereKadar1,\n",
    "LEFT(Size, LENGTH(Size)-1) as SonKaraktereKadar2,\n",
    "COUNT(*) AS Adet\n",
    "FROM Google\n",
    "WHERE Size LIKE \"%M\" AND Category in ('GAME', \"FAMILY\", \"TOOLS\")\n",
    "GROUP BY Category, Size\n",
    "),\n",
    "cte2 as\n",
    "(\n",
    "Select Category, \n",
    "CASE WHEN SonKaraktereKadar1 BETWEEN 50 AND 100 THEN \"50-100 M\" ELSE \"0-50 M\" END AS SizeCat,\n",
    "Adet AS Total\n",
    "from CTE\n",
    ")\n",
    "SELECT Category, SizeCat, SUM(Total) AS Total\n",
    "FROM cte2\n",
    "GROUP BY Category, SizeCat\n",
    "ORDER BY Category, SizeCat\n",
    "\n",
    "\"\"\").show(10)"
   ]
  },
  {
   "cell_type": "markdown",
   "metadata": {},
   "source": [
    "# Spark SQL - 2"
   ]
  },
  {
   "cell_type": "code",
   "execution_count": 16,
   "metadata": {},
   "outputs": [
    {
     "name": "stdout",
     "output_type": "stream",
     "text": [
      "+--------+--------+-----+\n",
      "|Category| SizeCat|Total|\n",
      "+--------+--------+-----+\n",
      "|  FAMILY|  0-50 M| 1427|\n",
      "|  FAMILY|50-100 M|  373|\n",
      "|    GAME|  0-50 M|  615|\n",
      "|    GAME|50-100 M|  397|\n",
      "|   TOOLS|  0-50 M|  649|\n",
      "|   TOOLS|50-100 M|   10|\n",
      "+--------+--------+-----+\n",
      "\n"
     ]
    }
   ],
   "source": [
    "google \\\n",
    ".filter(google.Size.like('%M')) \\\n",
    ".filter(google.Category.isin('GAME', \"FAMILY\", \"TOOLS\")) \\\n",
    ".withColumn(\"SizeNum\", google.Size.substr(lit(0), length(google.Size)-1)) \\\n",
    ".withColumn(\"SizeCat\", when(col(\"SizeNum\").between(50,100), \"50-100 M\").otherwise(\"0-50 M\")) \\\n",
    ".groupBy(\"Category\", \"SizeCat\") \\\n",
    ".agg(count(\"Category\").alias(\"Total\")) \\\n",
    ".orderBy(\"Category\", \"SizeCat\") \\\n",
    ".show(25)"
   ]
  },
  {
   "cell_type": "markdown",
   "metadata": {},
   "source": [
    "# Basic SQL - 3 "
   ]
  },
  {
   "cell_type": "code",
   "execution_count": 13,
   "metadata": {},
   "outputs": [
    {
     "name": "stdout",
     "output_type": "stream",
     "text": [
      "+----------------+------------+---+\n",
      "|        Category|InstallCount|Num|\n",
      "+----------------+------------+---+\n",
      "|   COMMUNICATION|  1000000000| 19|\n",
      "|          SOCIAL|  1000000000|  8|\n",
      "|            GAME|  1000000000|  6|\n",
      "|TRAVEL_AND_LOCAL|  1000000000|  5|\n",
      "|    PRODUCTIVITY|  1000000000|  4|\n",
      "+----------------+------------+---+\n",
      "only showing top 5 rows\n",
      "\n"
     ]
    }
   ],
   "source": [
    "#Aşağıdaki Query'i anlamak için\n",
    "spark.sql(\"\"\"\n",
    "\n",
    "with cte as\n",
    "(\n",
    "Select Category,\n",
    "REPLACE(SUBSTRING(Installs,1, LENGTH(Installs)-1), \",\",\"\") as InstallCount, Count(*) as Num\n",
    "from Google\n",
    "WHERE Installs LIKE ('%+')\n",
    "GROUP BY Category, Installs\n",
    "), cte2 as\n",
    "(\n",
    "select Category, CAST(InstallCount AS int), Num  from cte\n",
    "ORDER BY 2 desc, 3 desc \n",
    ")\n",
    "Select *\n",
    "from cte2\n",
    "\n",
    "\"\"\").show(5)"
   ]
  },
  {
   "cell_type": "code",
   "execution_count": 14,
   "metadata": {},
   "outputs": [
    {
     "name": "stdout",
     "output_type": "stream",
     "text": [
      "+-------------+------------+-----+\n",
      "|     Category|InstallCount|Total|\n",
      "+-------------+------------+-----+\n",
      "|COMMUNICATION|  1000000000|   19|\n",
      "|COMMUNICATION|   500000000|   17|\n",
      "|         GAME|   500000000|   17|\n",
      "|         GAME|   100000000|  134|\n",
      "|         GAME|    50000000|   84|\n",
      "|         GAME|    10000000|  225|\n",
      "|       FAMILY|     5000000|  123|\n",
      "|       FAMILY|     1000000|  275|\n",
      "|       FAMILY|      500000|  109|\n",
      "|       FAMILY|      100000|  256|\n",
      "|       FAMILY|       50000|  101|\n",
      "|       FAMILY|       10000|  231|\n",
      "|       FAMILY|        5000|  108|\n",
      "|       FAMILY|        1000|  215|\n",
      "|       FAMILY|         500|   69|\n",
      "|       FAMILY|         100|  116|\n",
      "|       FAMILY|          50|   35|\n",
      "|       FAMILY|          10|   61|\n",
      "|     BUSINESS|           5|   18|\n",
      "|       FAMILY|           1|   10|\n",
      "|       FAMILY|           0|    2|\n",
      "|      FINANCE|           0|    2|\n",
      "|       SOCIAL|           0|    2|\n",
      "+-------------+------------+-----+\n",
      "\n"
     ]
    }
   ],
   "source": [
    "# Her yüklenme kategorinde en fazla indirilen category'i listelemek.\n",
    "# RANK kullanılınca mesela 0'dan 2 tane indirilen 3 kategori var üçü de geliyor eşit olduğu için \n",
    "# ROW_NUMBER'da alfabetik olarak ilki geliyor.\n",
    "spark.sql(\"\"\"\n",
    "\n",
    "with cte as\n",
    "(\n",
    "Select Category,\n",
    "REPLACE(SUBSTRING(Installs,1, LENGTH(Installs)-1), \",\",\"\") as InstallCount, Count(*) as Num\n",
    "from Google\n",
    "WHERE Installs LIKE ('%+')\n",
    "GROUP BY Category, Installs\n",
    "), cte2 as\n",
    "(\n",
    "select Category, CAST(InstallCount AS int), Num  from cte\n",
    "ORDER BY 2 desc, 3 desc \n",
    "), cte3 as\n",
    "(\n",
    "Select *,\n",
    "RANK() OVER (PARTITION BY InstallCount ORDER BY InstallCount DESC, Num DESC) as rank\n",
    "from cte2\n",
    ")\n",
    "Select Category, InstallCount, Num as Total \n",
    "from cte3\n",
    "where rank = 1\n",
    "ORDER BY InstallCount DESC, Category\n",
    "\n",
    "\"\"\").show(1000)"
   ]
  },
  {
   "cell_type": "markdown",
   "metadata": {},
   "source": [
    "# Spark SQL - 3"
   ]
  },
  {
   "cell_type": "code",
   "execution_count": 22,
   "metadata": {},
   "outputs": [
    {
     "name": "stdout",
     "output_type": "stream",
     "text": [
      "+-------------+------------+-----+\n",
      "|     Category|InstallCount|Total|\n",
      "+-------------+------------+-----+\n",
      "|COMMUNICATION|  1000000000|   19|\n",
      "|COMMUNICATION|   500000000|   17|\n",
      "|         GAME|   500000000|   17|\n",
      "|         GAME|   100000000|  134|\n",
      "|         GAME|    50000000|   84|\n",
      "|         GAME|    10000000|  225|\n",
      "|       FAMILY|     5000000|  123|\n",
      "|       FAMILY|     1000000|  275|\n",
      "|       FAMILY|      500000|  109|\n",
      "|       FAMILY|      100000|  256|\n",
      "|       FAMILY|       50000|  101|\n",
      "|       FAMILY|       10000|  231|\n",
      "|       FAMILY|        5000|  108|\n",
      "|       FAMILY|        1000|  215|\n",
      "|       FAMILY|         500|   69|\n",
      "|       FAMILY|         100|  116|\n",
      "|       FAMILY|          50|   35|\n",
      "|       FAMILY|          10|   61|\n",
      "|     BUSINESS|           5|   18|\n",
      "|       FAMILY|           1|   10|\n",
      "|       FAMILY|           0|    2|\n",
      "|      FINANCE|           0|    2|\n",
      "|       SOCIAL|           0|    2|\n",
      "+-------------+------------+-----+\n",
      "\n"
     ]
    }
   ],
   "source": [
    "#RANK için aşağıdaki kütüphane import edilir.\n",
    "#from pyspark.sql.window import Window\n",
    "\n",
    "google \\\n",
    ".filter(google.Installs.like('%+')) \\\n",
    ".withColumn(\"Installs2\", google.Installs.substr(lit(0), length(google.Installs)-1)) \\\n",
    ".withColumn(\"InstallCount\", regexp_replace(col(\"Installs2\"), \",\", \"\").cast(IntegerType())) \\\n",
    ".groupBy(\"Category\", \"InstallCount\") \\\n",
    ".agg(count(\"Category\").alias(\"Total\")) \\\n",
    ".withColumn(\"Rank\", rank().over(Window.partitionBy(\"InstallCount\").orderBy(desc(\"Total\")))) \\\n",
    ".filter(col(\"Rank\") == 1) \\\n",
    ".select(\"Category\", \"InstallCount\", \"Total\") \\\n",
    ".orderBy(desc(\"InstallCount\"), \"Category\") \\\n",
    ".show(25)"
   ]
  },
  {
   "cell_type": "markdown",
   "metadata": {},
   "source": [
    "# Basic SQL - 4 "
   ]
  },
  {
   "cell_type": "code",
   "execution_count": 16,
   "metadata": {},
   "outputs": [
    {
     "name": "stdout",
     "output_type": "stream",
     "text": [
      "+-------+---+----------+\n",
      "|Edition|NOC|MedalCount|\n",
      "+-------+---+----------+\n",
      "|   1992|EUN|        92|\n",
      "|   1992|USA|        89|\n",
      "|   1992|GER|        81|\n",
      "|   1996|USA|       160|\n",
      "|   1996|GER|        42|\n",
      "|   1996|CUB|        39|\n",
      "|   2000|USA|       130|\n",
      "|   2000|RUS|        66|\n",
      "|   2000|AUS|        60|\n",
      "|   2004|USA|       116|\n",
      "|   2004|CHN|        52|\n",
      "|   2004|AUS|        49|\n",
      "|   2008|USA|       125|\n",
      "|   2008|CHN|        74|\n",
      "|   2008|RUS|        43|\n",
      "+-------+---+----------+\n",
      "\n"
     ]
    }
   ],
   "source": [
    "spark.sql(\"\"\"\n",
    "\n",
    "with cte as\n",
    "(\n",
    "Select Edition, NOC, Count(*) as MedalCount,\n",
    "RANK() over (partition by Edition ORDER BY Count(*) DESC) AS Rank\n",
    "FROM Olympic\n",
    "WHERE Edition BETWEEN 1992 AND 2008 \n",
    "AND Medal='Gold' \n",
    "GROUP BY Edition, NOC\n",
    "Having Count(*)>10\n",
    "ORDER BY Edition, MedalCount desc\n",
    ")\n",
    "Select Edition, NOC, MedalCount \n",
    "from cte\n",
    "WHERE RANK <=3\n",
    "\n",
    "\"\"\").show(100)"
   ]
  },
  {
   "cell_type": "markdown",
   "metadata": {},
   "source": [
    "# Spark SQL - 4"
   ]
  },
  {
   "cell_type": "code",
   "execution_count": 17,
   "metadata": {},
   "outputs": [
    {
     "name": "stdout",
     "output_type": "stream",
     "text": [
      "+-------+---+----------+\n",
      "|Edition|NOC|MedalCount|\n",
      "+-------+---+----------+\n",
      "|   1992|USA|        89|\n",
      "|   1992|GER|        81|\n",
      "|   1992|EUN|        92|\n",
      "|   1996|USA|       160|\n",
      "|   1996|GER|        42|\n",
      "|   1996|CUB|        39|\n",
      "|   2000|USA|       130|\n",
      "|   2000|RUS|        66|\n",
      "|   2000|AUS|        60|\n",
      "|   2004|CHN|        52|\n",
      "|   2004|AUS|        49|\n",
      "|   2004|USA|       116|\n",
      "|   2008|USA|       125|\n",
      "|   2008|CHN|        74|\n",
      "|   2008|RUS|        43|\n",
      "+-------+---+----------+\n",
      "\n"
     ]
    }
   ],
   "source": [
    "olympic \\\n",
    ".filter((olympic.Edition.between(1992, 2008)) & (olympic.Medal==\"Gold\")) \\\n",
    ".groupBy(\"Edition\", \"NOC\") \\\n",
    ".agg(count(\"Edition\").alias(\"MedalCount\")) \\\n",
    ".withColumn(\"Rank\", rank().over(Window.partitionBy(\"Edition\").orderBy(desc(\"MedalCount\")))) \\\n",
    ".filter(col(\"Rank\").between(1,3)) \\\n",
    ".select(\"Edition\", \"NOC\", \"MedalCount\") \\\n",
    ".orderBy(\"Edition\") \\\n",
    ".show(75)"
   ]
  },
  {
   "cell_type": "markdown",
   "metadata": {},
   "source": [
    "# Basic SQL - 5"
   ]
  },
  {
   "cell_type": "code",
   "execution_count": 24,
   "metadata": {
    "scrolled": true
   },
   "outputs": [
    {
     "name": "stdout",
     "output_type": "stream",
     "text": [
      "+---+----+--------------+-------------------+\n",
      "| Ay| Yil|         Durum|             Toplam|\n",
      "+---+----+--------------+-------------------+\n",
      "| 12|2010|Tahsil Edilmiş|  823746.1386869252|\n",
      "| 12|2010| İptal Edilmiş|  -74789.1201132536|\n",
      "|  1|2011|Tahsil Edilmiş|  691364.5523450822|\n",
      "|  1|2011| İptal Edilmiş|-131364.29426512122|\n",
      "|  2|2011|Tahsil Edilmiş| 523631.88908462226|\n",
      "|  2|2011| İptal Edilmiş|-25569.239793926477|\n",
      "|  3|2011|Tahsil Edilmiş|  717639.3586430848|\n",
      "|  3|2011| İptal Edilmiş| -34372.27955004573|\n",
      "|  4|2011|Tahsil Edilmiş|  537808.6189456339|\n",
      "|  4|2011| İptal Edilmiş| -44601.49981290102|\n",
      "|  5|2011|Tahsil Edilmiş|  770536.0177987814|\n",
      "|  5|2011| İptal Edilmiş| -47202.50994770229|\n",
      "|  6|2011|Tahsil Edilmiş|   761739.898292534|\n",
      "|  6|2011| İptal Edilmiş| -70616.78039768338|\n",
      "|  7|2011|Tahsil Edilmiş|  719221.1889705638|\n",
      "|  7|2011| İptal Edilmiş| -37921.08029431105|\n",
      "|  8|2011|Tahsil Edilmiş|  737014.2585139647|\n",
      "|  8|2011| İptal Edilmiş|-54333.749689251184|\n",
      "|  9|2011|Tahsil Edilmiş| 1058590.1695633566|\n",
      "|  9|2011| İptal Edilmiş| -38902.55012214184|\n",
      "| 10|2011|Tahsil Edilmiş| 1154979.2968367152|\n",
      "| 10|2011| İptal Edilmiş| -84274.62955749035|\n",
      "| 11|2011|Tahsil Edilmiş| 1509496.3250096552|\n",
      "| 11|2011| İptal Edilmiş|-47740.079766117036|\n",
      "| 12|2011|Tahsil Edilmiş|  638792.6728487983|\n",
      "| 12|2011| İptal Edilmiş|-205124.66460043192|\n",
      "+---+----+--------------+-------------------+\n",
      "\n"
     ]
    }
   ],
   "source": [
    "spark.sql(\"\"\"\n",
    "\n",
    "with cte as \n",
    "(\n",
    "select *,\n",
    "cast(Quantity as int)*cast(replace(UnitPrice,',','.') as float) as ToplamTutar,\n",
    "CASE WHEN LEFT(InvoiceNo,1) = 'C' Then 'İptal Edilmiş' Else 'Tahsil Edilmiş' end as Durum,\n",
    "YEAR(Date) as Yil, MONTH(Date) as Ay\n",
    "from Retail\n",
    ")\n",
    "Select Ay, Yil, Durum, SUM(ToplamTutar) as Toplam\n",
    "from cte\n",
    "GROUP BY Yil, Ay, Durum\n",
    "ORDER BY Yil, Ay, Durum\n",
    "\n",
    "\n",
    "\"\"\").show(30)"
   ]
  },
  {
   "cell_type": "markdown",
   "metadata": {},
   "source": [
    "# Spark SQL - 5"
   ]
  },
  {
   "cell_type": "markdown",
   "metadata": {},
   "source": [
    "#### replace kullanmaya çalıştım belki yarım saat uğraştım, onun yerine regexp_replace varmış."
   ]
  },
  {
   "cell_type": "code",
   "execution_count": 48,
   "metadata": {
    "scrolled": true
   },
   "outputs": [
    {
     "name": "stdout",
     "output_type": "stream",
     "text": [
      "+----+---+--------------+-------------------+\n",
      "| Yil| Ay|         Durum|             Toplam|\n",
      "+----+---+--------------+-------------------+\n",
      "|2010| 12|Tahsil Edilmiş|  823746.1399999646|\n",
      "|2010| 12| İptal Edilmiş| -74789.11999999965|\n",
      "|2011|  1|Tahsil Edilmiş|  691364.5600000108|\n",
      "|2011|  1| İptal Edilmiş|-131364.29999999967|\n",
      "|2011|  2|Tahsil Edilmiş|  523631.8900000278|\n",
      "|2011|  2| İptal Edilmiş|-25569.240000000005|\n",
      "|2011|  3|Tahsil Edilmiş|  717639.3600000187|\n",
      "|2011|  3| İptal Edilmiş| -34372.28000000007|\n",
      "|2011|  4|Tahsil Edilmiş|  537808.6210000159|\n",
      "|2011|  4| İptal Edilmiş|           -44601.5|\n",
      "|2011|  5|Tahsil Edilmiş|  770536.0200000107|\n",
      "|2011|  5| İptal Edilmiş| -47202.50999999987|\n",
      "|2011|  6|Tahsil Edilmiş|  761739.9000000219|\n",
      "|2011|  6| İptal Edilmiş|  -70616.7799999997|\n",
      "|2011|  7|Tahsil Edilmiş|  719221.1910000272|\n",
      "|2011|  7| İptal Edilmiş|-37921.079999999994|\n",
      "|2011|  8|Tahsil Edilmiş|   737014.260000017|\n",
      "|2011|  8| İptal Edilmiş| -54333.75000000007|\n",
      "|2011|  9|Tahsil Edilmiş|  1058590.171999997|\n",
      "|2011|  9| İptal Edilmiş| -38902.55000000001|\n",
      "|2011| 10|Tahsil Edilmiş| 1154979.2999999207|\n",
      "|2011| 10| İptal Edilmiş| -84274.62999999973|\n",
      "|2011| 11|Tahsil Edilmiş|  1509496.329999857|\n",
      "|2011| 11| İptal Edilmiş| -47740.07999999996|\n",
      "|2011| 12|Tahsil Edilmiş|   638792.680000013|\n",
      "|2011| 12| İptal Edilmiş|-205124.66999999998|\n",
      "+----+---+--------------+-------------------+\n",
      "\n"
     ]
    }
   ],
   "source": [
    "#Like'lı ifade retail.InvoiceNo.contains('C') şeklinde de yazılabilirdi.\n",
    "#float ve int dönüşümlerini kendi yapıyor.\n",
    "retail \\\n",
    ".withColumn(\"Yil\", year(col(\"Date\"))) \\\n",
    ".withColumn(\"Ay\", month(col(\"Date\"))) \\\n",
    ".withColumn(\"Durum\", when(retail.InvoiceNo.like('C%'), 'İptal Edilmiş').otherwise('Tahsil Edilmiş')) \\\n",
    ".withColumn(\"UnitPriceF\", regexp_replace(\"UnitPrice\", \",\", \".\")) \\\n",
    ".withColumn(\"Tutar\", col(\"Quantity\")*col(\"UnitPriceF\")) \\\n",
    ".groupby(\"Yil\", \"Ay\", \"Durum\") \\\n",
    ".agg(sum(\"Tutar\").alias(\"Toplam\")) \\\n",
    ".sort(\"Yil\", \"Ay\", \"Durum\") \\\n",
    ".show(50)"
   ]
  }
 ],
 "metadata": {
  "kernelspec": {
   "display_name": "Python 3",
   "language": "python",
   "name": "python3"
  },
  "language_info": {
   "codemirror_mode": {
    "name": "ipython",
    "version": 3
   },
   "file_extension": ".py",
   "mimetype": "text/x-python",
   "name": "python",
   "nbconvert_exporter": "python",
   "pygments_lexer": "ipython3",
   "version": "3.7.6"
  }
 },
 "nbformat": 4,
 "nbformat_minor": 4
}
